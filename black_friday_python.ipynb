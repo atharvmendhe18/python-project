{
 "cells": [
  {
   "cell_type": "code",
   "execution_count": 1,
   "metadata": {},
   "outputs": [],
   "source": [
    "import pandas as pd\n",
    "import numpy as np\n",
    "import seaborn as sns\n",
    "import matplotlib as plt"
   ]
  },
  {
   "cell_type": "code",
   "execution_count": 6,
   "metadata": {},
   "outputs": [
    {
     "data": {
      "text/html": [
       "<div>\n",
       "<style scoped>\n",
       "    .dataframe tbody tr th:only-of-type {\n",
       "        vertical-align: middle;\n",
       "    }\n",
       "\n",
       "    .dataframe tbody tr th {\n",
       "        vertical-align: top;\n",
       "    }\n",
       "\n",
       "    .dataframe thead th {\n",
       "        text-align: right;\n",
       "    }\n",
       "</style>\n",
       "<table border=\"1\" class=\"dataframe\">\n",
       "  <thead>\n",
       "    <tr style=\"text-align: right;\">\n",
       "      <th></th>\n",
       "      <th>User_ID</th>\n",
       "      <th>Product_ID</th>\n",
       "      <th>Gender</th>\n",
       "      <th>Age</th>\n",
       "      <th>Occupation</th>\n",
       "      <th>City_Category</th>\n",
       "      <th>Stay_In_Current_City_Years</th>\n",
       "      <th>Marital_Status</th>\n",
       "      <th>Product_Category_1</th>\n",
       "      <th>Product_Category_2</th>\n",
       "      <th>Product_Category_3</th>\n",
       "      <th>Purchase</th>\n",
       "    </tr>\n",
       "  </thead>\n",
       "  <tbody>\n",
       "    <tr>\n",
       "      <th>0</th>\n",
       "      <td>1000001</td>\n",
       "      <td>P00069042</td>\n",
       "      <td>F</td>\n",
       "      <td>0-17</td>\n",
       "      <td>10</td>\n",
       "      <td>A</td>\n",
       "      <td>2</td>\n",
       "      <td>0</td>\n",
       "      <td>3</td>\n",
       "      <td>NaN</td>\n",
       "      <td>NaN</td>\n",
       "      <td>8370</td>\n",
       "    </tr>\n",
       "    <tr>\n",
       "      <th>1</th>\n",
       "      <td>1000001</td>\n",
       "      <td>P00248942</td>\n",
       "      <td>F</td>\n",
       "      <td>0-17</td>\n",
       "      <td>10</td>\n",
       "      <td>A</td>\n",
       "      <td>2</td>\n",
       "      <td>0</td>\n",
       "      <td>1</td>\n",
       "      <td>6.0</td>\n",
       "      <td>14.0</td>\n",
       "      <td>15200</td>\n",
       "    </tr>\n",
       "    <tr>\n",
       "      <th>2</th>\n",
       "      <td>1000001</td>\n",
       "      <td>P00087842</td>\n",
       "      <td>F</td>\n",
       "      <td>0-17</td>\n",
       "      <td>10</td>\n",
       "      <td>A</td>\n",
       "      <td>2</td>\n",
       "      <td>0</td>\n",
       "      <td>12</td>\n",
       "      <td>NaN</td>\n",
       "      <td>NaN</td>\n",
       "      <td>1422</td>\n",
       "    </tr>\n",
       "    <tr>\n",
       "      <th>3</th>\n",
       "      <td>1000001</td>\n",
       "      <td>P00085442</td>\n",
       "      <td>F</td>\n",
       "      <td>0-17</td>\n",
       "      <td>10</td>\n",
       "      <td>A</td>\n",
       "      <td>2</td>\n",
       "      <td>0</td>\n",
       "      <td>12</td>\n",
       "      <td>14.0</td>\n",
       "      <td>NaN</td>\n",
       "      <td>1057</td>\n",
       "    </tr>\n",
       "    <tr>\n",
       "      <th>4</th>\n",
       "      <td>1000002</td>\n",
       "      <td>P00285442</td>\n",
       "      <td>M</td>\n",
       "      <td>55+</td>\n",
       "      <td>16</td>\n",
       "      <td>C</td>\n",
       "      <td>4+</td>\n",
       "      <td>0</td>\n",
       "      <td>8</td>\n",
       "      <td>NaN</td>\n",
       "      <td>NaN</td>\n",
       "      <td>7969</td>\n",
       "    </tr>\n",
       "    <tr>\n",
       "      <th>...</th>\n",
       "      <td>...</td>\n",
       "      <td>...</td>\n",
       "      <td>...</td>\n",
       "      <td>...</td>\n",
       "      <td>...</td>\n",
       "      <td>...</td>\n",
       "      <td>...</td>\n",
       "      <td>...</td>\n",
       "      <td>...</td>\n",
       "      <td>...</td>\n",
       "      <td>...</td>\n",
       "      <td>...</td>\n",
       "    </tr>\n",
       "    <tr>\n",
       "      <th>550063</th>\n",
       "      <td>1006033</td>\n",
       "      <td>P00372445</td>\n",
       "      <td>M</td>\n",
       "      <td>51-55</td>\n",
       "      <td>13</td>\n",
       "      <td>B</td>\n",
       "      <td>1</td>\n",
       "      <td>1</td>\n",
       "      <td>20</td>\n",
       "      <td>NaN</td>\n",
       "      <td>NaN</td>\n",
       "      <td>368</td>\n",
       "    </tr>\n",
       "    <tr>\n",
       "      <th>550064</th>\n",
       "      <td>1006035</td>\n",
       "      <td>P00375436</td>\n",
       "      <td>F</td>\n",
       "      <td>26-35</td>\n",
       "      <td>1</td>\n",
       "      <td>C</td>\n",
       "      <td>3</td>\n",
       "      <td>0</td>\n",
       "      <td>20</td>\n",
       "      <td>NaN</td>\n",
       "      <td>NaN</td>\n",
       "      <td>371</td>\n",
       "    </tr>\n",
       "    <tr>\n",
       "      <th>550065</th>\n",
       "      <td>1006036</td>\n",
       "      <td>P00375436</td>\n",
       "      <td>F</td>\n",
       "      <td>26-35</td>\n",
       "      <td>15</td>\n",
       "      <td>B</td>\n",
       "      <td>4+</td>\n",
       "      <td>1</td>\n",
       "      <td>20</td>\n",
       "      <td>NaN</td>\n",
       "      <td>NaN</td>\n",
       "      <td>137</td>\n",
       "    </tr>\n",
       "    <tr>\n",
       "      <th>550066</th>\n",
       "      <td>1006038</td>\n",
       "      <td>P00375436</td>\n",
       "      <td>F</td>\n",
       "      <td>55+</td>\n",
       "      <td>1</td>\n",
       "      <td>C</td>\n",
       "      <td>2</td>\n",
       "      <td>0</td>\n",
       "      <td>20</td>\n",
       "      <td>NaN</td>\n",
       "      <td>NaN</td>\n",
       "      <td>365</td>\n",
       "    </tr>\n",
       "    <tr>\n",
       "      <th>550067</th>\n",
       "      <td>1006039</td>\n",
       "      <td>P00371644</td>\n",
       "      <td>F</td>\n",
       "      <td>46-50</td>\n",
       "      <td>0</td>\n",
       "      <td>B</td>\n",
       "      <td>4+</td>\n",
       "      <td>1</td>\n",
       "      <td>20</td>\n",
       "      <td>NaN</td>\n",
       "      <td>NaN</td>\n",
       "      <td>490</td>\n",
       "    </tr>\n",
       "  </tbody>\n",
       "</table>\n",
       "<p>550068 rows × 12 columns</p>\n",
       "</div>"
      ],
      "text/plain": [
       "        User_ID Product_ID Gender    Age  Occupation City_Category  \\\n",
       "0       1000001  P00069042      F   0-17          10             A   \n",
       "1       1000001  P00248942      F   0-17          10             A   \n",
       "2       1000001  P00087842      F   0-17          10             A   \n",
       "3       1000001  P00085442      F   0-17          10             A   \n",
       "4       1000002  P00285442      M    55+          16             C   \n",
       "...         ...        ...    ...    ...         ...           ...   \n",
       "550063  1006033  P00372445      M  51-55          13             B   \n",
       "550064  1006035  P00375436      F  26-35           1             C   \n",
       "550065  1006036  P00375436      F  26-35          15             B   \n",
       "550066  1006038  P00375436      F    55+           1             C   \n",
       "550067  1006039  P00371644      F  46-50           0             B   \n",
       "\n",
       "       Stay_In_Current_City_Years  Marital_Status  Product_Category_1  \\\n",
       "0                               2               0                   3   \n",
       "1                               2               0                   1   \n",
       "2                               2               0                  12   \n",
       "3                               2               0                  12   \n",
       "4                              4+               0                   8   \n",
       "...                           ...             ...                 ...   \n",
       "550063                          1               1                  20   \n",
       "550064                          3               0                  20   \n",
       "550065                         4+               1                  20   \n",
       "550066                          2               0                  20   \n",
       "550067                         4+               1                  20   \n",
       "\n",
       "        Product_Category_2  Product_Category_3  Purchase  \n",
       "0                      NaN                 NaN      8370  \n",
       "1                      6.0                14.0     15200  \n",
       "2                      NaN                 NaN      1422  \n",
       "3                     14.0                 NaN      1057  \n",
       "4                      NaN                 NaN      7969  \n",
       "...                    ...                 ...       ...  \n",
       "550063                 NaN                 NaN       368  \n",
       "550064                 NaN                 NaN       371  \n",
       "550065                 NaN                 NaN       137  \n",
       "550066                 NaN                 NaN       365  \n",
       "550067                 NaN                 NaN       490  \n",
       "\n",
       "[550068 rows x 12 columns]"
      ]
     },
     "execution_count": 6,
     "metadata": {},
     "output_type": "execute_result"
    }
   ],
   "source": [
    "df = pd.read_csv(\"Black_Friday_Sales_Prediction/train.csv\")\n",
    "df"
   ]
  },
  {
   "cell_type": "code",
   "execution_count": 7,
   "metadata": {},
   "outputs": [],
   "source": [
    "#since the columns user_id, product_id,product_category_2,product_category_3 don't add any useful unfo we drop them \n",
    "df.drop(['User_ID', 'Product_ID','Product_Category_2','Product_Category_3'], axis=1, inplace=True)"
   ]
  },
  {
   "cell_type": "code",
   "execution_count": 8,
   "metadata": {},
   "outputs": [
    {
     "data": {
      "text/html": [
       "<div>\n",
       "<style scoped>\n",
       "    .dataframe tbody tr th:only-of-type {\n",
       "        vertical-align: middle;\n",
       "    }\n",
       "\n",
       "    .dataframe tbody tr th {\n",
       "        vertical-align: top;\n",
       "    }\n",
       "\n",
       "    .dataframe thead th {\n",
       "        text-align: right;\n",
       "    }\n",
       "</style>\n",
       "<table border=\"1\" class=\"dataframe\">\n",
       "  <thead>\n",
       "    <tr style=\"text-align: right;\">\n",
       "      <th></th>\n",
       "      <th>Gender</th>\n",
       "      <th>Age</th>\n",
       "      <th>Occupation</th>\n",
       "      <th>City_Category</th>\n",
       "      <th>Stay_In_Current_City_Years</th>\n",
       "      <th>Marital_Status</th>\n",
       "      <th>Product_Category_1</th>\n",
       "      <th>Purchase</th>\n",
       "    </tr>\n",
       "  </thead>\n",
       "  <tbody>\n",
       "    <tr>\n",
       "      <th>0</th>\n",
       "      <td>F</td>\n",
       "      <td>0-17</td>\n",
       "      <td>10</td>\n",
       "      <td>A</td>\n",
       "      <td>2</td>\n",
       "      <td>0</td>\n",
       "      <td>3</td>\n",
       "      <td>8370</td>\n",
       "    </tr>\n",
       "    <tr>\n",
       "      <th>1</th>\n",
       "      <td>F</td>\n",
       "      <td>0-17</td>\n",
       "      <td>10</td>\n",
       "      <td>A</td>\n",
       "      <td>2</td>\n",
       "      <td>0</td>\n",
       "      <td>1</td>\n",
       "      <td>15200</td>\n",
       "    </tr>\n",
       "    <tr>\n",
       "      <th>2</th>\n",
       "      <td>F</td>\n",
       "      <td>0-17</td>\n",
       "      <td>10</td>\n",
       "      <td>A</td>\n",
       "      <td>2</td>\n",
       "      <td>0</td>\n",
       "      <td>12</td>\n",
       "      <td>1422</td>\n",
       "    </tr>\n",
       "    <tr>\n",
       "      <th>3</th>\n",
       "      <td>F</td>\n",
       "      <td>0-17</td>\n",
       "      <td>10</td>\n",
       "      <td>A</td>\n",
       "      <td>2</td>\n",
       "      <td>0</td>\n",
       "      <td>12</td>\n",
       "      <td>1057</td>\n",
       "    </tr>\n",
       "    <tr>\n",
       "      <th>4</th>\n",
       "      <td>M</td>\n",
       "      <td>55+</td>\n",
       "      <td>16</td>\n",
       "      <td>C</td>\n",
       "      <td>4+</td>\n",
       "      <td>0</td>\n",
       "      <td>8</td>\n",
       "      <td>7969</td>\n",
       "    </tr>\n",
       "    <tr>\n",
       "      <th>5</th>\n",
       "      <td>M</td>\n",
       "      <td>26-35</td>\n",
       "      <td>15</td>\n",
       "      <td>A</td>\n",
       "      <td>3</td>\n",
       "      <td>0</td>\n",
       "      <td>1</td>\n",
       "      <td>15227</td>\n",
       "    </tr>\n",
       "    <tr>\n",
       "      <th>6</th>\n",
       "      <td>M</td>\n",
       "      <td>46-50</td>\n",
       "      <td>7</td>\n",
       "      <td>B</td>\n",
       "      <td>2</td>\n",
       "      <td>1</td>\n",
       "      <td>1</td>\n",
       "      <td>19215</td>\n",
       "    </tr>\n",
       "    <tr>\n",
       "      <th>7</th>\n",
       "      <td>M</td>\n",
       "      <td>46-50</td>\n",
       "      <td>7</td>\n",
       "      <td>B</td>\n",
       "      <td>2</td>\n",
       "      <td>1</td>\n",
       "      <td>1</td>\n",
       "      <td>15854</td>\n",
       "    </tr>\n",
       "    <tr>\n",
       "      <th>8</th>\n",
       "      <td>M</td>\n",
       "      <td>46-50</td>\n",
       "      <td>7</td>\n",
       "      <td>B</td>\n",
       "      <td>2</td>\n",
       "      <td>1</td>\n",
       "      <td>1</td>\n",
       "      <td>15686</td>\n",
       "    </tr>\n",
       "    <tr>\n",
       "      <th>9</th>\n",
       "      <td>M</td>\n",
       "      <td>26-35</td>\n",
       "      <td>20</td>\n",
       "      <td>A</td>\n",
       "      <td>1</td>\n",
       "      <td>1</td>\n",
       "      <td>8</td>\n",
       "      <td>7871</td>\n",
       "    </tr>\n",
       "  </tbody>\n",
       "</table>\n",
       "</div>"
      ],
      "text/plain": [
       "  Gender    Age  Occupation City_Category Stay_In_Current_City_Years  \\\n",
       "0      F   0-17          10             A                          2   \n",
       "1      F   0-17          10             A                          2   \n",
       "2      F   0-17          10             A                          2   \n",
       "3      F   0-17          10             A                          2   \n",
       "4      M    55+          16             C                         4+   \n",
       "5      M  26-35          15             A                          3   \n",
       "6      M  46-50           7             B                          2   \n",
       "7      M  46-50           7             B                          2   \n",
       "8      M  46-50           7             B                          2   \n",
       "9      M  26-35          20             A                          1   \n",
       "\n",
       "   Marital_Status  Product_Category_1  Purchase  \n",
       "0               0                   3      8370  \n",
       "1               0                   1     15200  \n",
       "2               0                  12      1422  \n",
       "3               0                  12      1057  \n",
       "4               0                   8      7969  \n",
       "5               0                   1     15227  \n",
       "6               1                   1     19215  \n",
       "7               1                   1     15854  \n",
       "8               1                   1     15686  \n",
       "9               1                   8      7871  "
      ]
     },
     "execution_count": 8,
     "metadata": {},
     "output_type": "execute_result"
    }
   ],
   "source": [
    "df.head(10)"
   ]
  },
  {
   "cell_type": "code",
   "execution_count": 18,
   "metadata": {},
   "outputs": [
    {
     "data": {
      "text/html": [
       "<div>\n",
       "<style scoped>\n",
       "    .dataframe tbody tr th:only-of-type {\n",
       "        vertical-align: middle;\n",
       "    }\n",
       "\n",
       "    .dataframe tbody tr th {\n",
       "        vertical-align: top;\n",
       "    }\n",
       "\n",
       "    .dataframe thead th {\n",
       "        text-align: right;\n",
       "    }\n",
       "</style>\n",
       "<table border=\"1\" class=\"dataframe\">\n",
       "  <thead>\n",
       "    <tr style=\"text-align: right;\">\n",
       "      <th></th>\n",
       "      <th>Gender</th>\n",
       "      <th>Occupation</th>\n",
       "      <th>City_Category</th>\n",
       "      <th>Stay_In_Current_City_Years</th>\n",
       "      <th>Marital_Status</th>\n",
       "      <th>Product_Category_1</th>\n",
       "      <th>Purchase</th>\n",
       "    </tr>\n",
       "    <tr>\n",
       "      <th>Age</th>\n",
       "      <th></th>\n",
       "      <th></th>\n",
       "      <th></th>\n",
       "      <th></th>\n",
       "      <th></th>\n",
       "      <th></th>\n",
       "      <th></th>\n",
       "    </tr>\n",
       "  </thead>\n",
       "  <tbody>\n",
       "    <tr>\n",
       "      <th>0-17</th>\n",
       "      <td>FFFFMMMMMMMMMMMMFFFFFFFFFFFFFFFFFFFFFFFMMMFFFF...</td>\n",
       "      <td>132309</td>\n",
       "      <td>AAAAAAAAAAAAAAAACCCCCCCCCCCCCCCCCCCCCCCCCCCCCC...</td>\n",
       "      <td>222233333333333324+4+4+4+4+4+4+4+4+4+331111111...</td>\n",
       "      <td>0</td>\n",
       "      <td>76775</td>\n",
       "      <td>134913183</td>\n",
       "    </tr>\n",
       "    <tr>\n",
       "      <th>18-25</th>\n",
       "      <td>FFFFFFFFFFFFFFFMMMMMMMMMMMMMMMMMMFFFFFFFFFFMMF...</td>\n",
       "      <td>671348</td>\n",
       "      <td>BBBBBBBBBBBBBBBBAAAAAAAAAAAAAACCCAAAAAAAAAABBC...</td>\n",
       "      <td>33333333333333304+4+4+4+4+4+4+4+4+4+4+4+4+4+4+...</td>\n",
       "      <td>21116</td>\n",
       "      <td>509371</td>\n",
       "      <td>913848675</td>\n",
       "    </tr>\n",
       "    <tr>\n",
       "      <th>26-35</th>\n",
       "      <td>MMMMMMMMMMMMMMMMFFFMMMMMMMMMMMFFFMMMMMMMMMMMMM...</td>\n",
       "      <td>1734073</td>\n",
       "      <td>AAAAAACCCCCCCCCCCCCCCAAAAAAAAAAAABBBBBBBBBBBBC...</td>\n",
       "      <td>3111114+4+4+4+4+4+0000111221111111113332222222...</td>\n",
       "      <td>86291</td>\n",
       "      <td>1166945</td>\n",
       "      <td>2031770578</td>\n",
       "    </tr>\n",
       "    <tr>\n",
       "      <th>36-45</th>\n",
       "      <td>MFFFFFFFFFFFFFFFFFFMFFMMMMMMMMMMMMMMMMFFFMMMMF...</td>\n",
       "      <td>972225</td>\n",
       "      <td>BBBBBBBBBBBBBBBBBBBCCCBBBBBBBBBBBBCCCCCCCCCCCA...</td>\n",
       "      <td>14+4+4+4+4+4+4+4+4+4+4+4+4+4+4+4+4+4+000333333...</td>\n",
       "      <td>43636</td>\n",
       "      <td>604438</td>\n",
       "      <td>1026569884</td>\n",
       "    </tr>\n",
       "    <tr>\n",
       "      <th>46-50</th>\n",
       "      <td>MMMMMMMMMMMMMMMMMMMMMMMMMMMMMMMMMMMMMMMMMFFFFF...</td>\n",
       "      <td>389239</td>\n",
       "      <td>BBBCCCAAAAAAAAAAAAAAACCCCCCCBBBBBBBBBBBBBAAAAA...</td>\n",
       "      <td>2223331111111111111114+4+4+4+4+4+4+33333333333...</td>\n",
       "      <td>33011</td>\n",
       "      <td>262424</td>\n",
       "      <td>420843403</td>\n",
       "    </tr>\n",
       "    <tr>\n",
       "      <th>51-55</th>\n",
       "      <td>FFFFMMMMMFFFFFFFFFFFFFFFMMFFFMMMMMMMMMMMMMMMMM...</td>\n",
       "      <td>339198</td>\n",
       "      <td>AAAACCCCCBBBBBBBBBBBBBBBCCCCCBBBBBBBBBBBBBBBBB...</td>\n",
       "      <td>11110004+4+4+4+4+4+4+4+4+4+4+4+4+4+4+4+4+114+4...</td>\n",
       "      <td>27662</td>\n",
       "      <td>222313</td>\n",
       "      <td>367099644</td>\n",
       "    </tr>\n",
       "    <tr>\n",
       "      <th>55+</th>\n",
       "      <td>MMMMMMMMFFMMMMMMMMMMMMMMMMMMMMMMMMMMMMMMMMMMMM...</td>\n",
       "      <td>204346</td>\n",
       "      <td>CCCCCCCCCCCCCCCCCCCCCCCCCACCAAAACCCCAACCCCCCCC...</td>\n",
       "      <td>4+22223331111111111111111112222222222001111111...</td>\n",
       "      <td>13621</td>\n",
       "      <td>130450</td>\n",
       "      <td>200767375</td>\n",
       "    </tr>\n",
       "  </tbody>\n",
       "</table>\n",
       "</div>"
      ],
      "text/plain": [
       "                                                  Gender  Occupation  \\\n",
       "Age                                                                    \n",
       "0-17   FFFFMMMMMMMMMMMMFFFFFFFFFFFFFFFFFFFFFFFMMMFFFF...      132309   \n",
       "18-25  FFFFFFFFFFFFFFFMMMMMMMMMMMMMMMMMMFFFFFFFFFFMMF...      671348   \n",
       "26-35  MMMMMMMMMMMMMMMMFFFMMMMMMMMMMMFFFMMMMMMMMMMMMM...     1734073   \n",
       "36-45  MFFFFFFFFFFFFFFFFFFMFFMMMMMMMMMMMMMMMMFFFMMMMF...      972225   \n",
       "46-50  MMMMMMMMMMMMMMMMMMMMMMMMMMMMMMMMMMMMMMMMMFFFFF...      389239   \n",
       "51-55  FFFFMMMMMFFFFFFFFFFFFFFFMMFFFMMMMMMMMMMMMMMMMM...      339198   \n",
       "55+    MMMMMMMMFFMMMMMMMMMMMMMMMMMMMMMMMMMMMMMMMMMMMM...      204346   \n",
       "\n",
       "                                           City_Category  \\\n",
       "Age                                                        \n",
       "0-17   AAAAAAAAAAAAAAAACCCCCCCCCCCCCCCCCCCCCCCCCCCCCC...   \n",
       "18-25  BBBBBBBBBBBBBBBBAAAAAAAAAAAAAACCCAAAAAAAAAABBC...   \n",
       "26-35  AAAAAACCCCCCCCCCCCCCCAAAAAAAAAAAABBBBBBBBBBBBC...   \n",
       "36-45  BBBBBBBBBBBBBBBBBBBCCCBBBBBBBBBBBBCCCCCCCCCCCA...   \n",
       "46-50  BBBCCCAAAAAAAAAAAAAAACCCCCCCBBBBBBBBBBBBBAAAAA...   \n",
       "51-55  AAAACCCCCBBBBBBBBBBBBBBBCCCCCBBBBBBBBBBBBBBBBB...   \n",
       "55+    CCCCCCCCCCCCCCCCCCCCCCCCCACCAAAACCCCAACCCCCCCC...   \n",
       "\n",
       "                              Stay_In_Current_City_Years  Marital_Status  \\\n",
       "Age                                                                        \n",
       "0-17   222233333333333324+4+4+4+4+4+4+4+4+4+331111111...               0   \n",
       "18-25  33333333333333304+4+4+4+4+4+4+4+4+4+4+4+4+4+4+...           21116   \n",
       "26-35  3111114+4+4+4+4+4+0000111221111111113332222222...           86291   \n",
       "36-45  14+4+4+4+4+4+4+4+4+4+4+4+4+4+4+4+4+4+000333333...           43636   \n",
       "46-50  2223331111111111111114+4+4+4+4+4+4+33333333333...           33011   \n",
       "51-55  11110004+4+4+4+4+4+4+4+4+4+4+4+4+4+4+4+4+114+4...           27662   \n",
       "55+    4+22223331111111111111111112222222222001111111...           13621   \n",
       "\n",
       "       Product_Category_1    Purchase  \n",
       "Age                                    \n",
       "0-17                76775   134913183  \n",
       "18-25              509371   913848675  \n",
       "26-35             1166945  2031770578  \n",
       "36-45              604438  1026569884  \n",
       "46-50              262424   420843403  \n",
       "51-55              222313   367099644  \n",
       "55+                130450   200767375  "
      ]
     },
     "execution_count": 18,
     "metadata": {},
     "output_type": "execute_result"
    }
   ],
   "source": [
    "age_grpby = df.groupby(\"Age\").sum()\n",
    "age_grpby"
   ]
  },
  {
   "cell_type": "code",
   "execution_count": 33,
   "metadata": {},
   "outputs": [
    {
     "data": {
      "text/plain": [
       "<Axes: ylabel='Purchase'>"
      ]
     },
     "execution_count": 33,
     "metadata": {},
     "output_type": "execute_result"
    },
    {
     "data": {
      "image/png": "[encoded data removed]",
      "text/plain": [
       "<Figure size 640x480 with 1 Axes>"
      ]
     },
     "metadata": {},
     "output_type": "display_data"
    }
   ],
   "source": [
    "# Now lets plot a barplot of age vs total purchased amount in that age group \n",
    "sns.barplot(x=df['Age'].unique() , y = age_grpby['Purchase'])"
   ]
  },
  {
   "cell_type": "code",
   "execution_count": 39,
   "metadata": {},
   "outputs": [
    {
     "data": {
      "text/plain": [
       "Marital_Status\n",
       "0    9265.907619\n",
       "1    9261.174574\n",
       "Name: Purchase, dtype: float64"
      ]
     },
     "execution_count": 39,
     "metadata": {},
     "output_type": "execute_result"
    }
   ],
   "source": [
    "# Gender vs mean purchase amount\n",
    "marital_status_grpby = df.groupby('Marital_Status')['Purchase'].mean()\n",
    "marital_status_grpby"
   ]
  },
  {
   "cell_type": "code",
   "execution_count": 40,
   "metadata": {},
   "outputs": [
    {
     "data": {
      "text/plain": [
       "City_Category\n",
       "A    8911.939216\n",
       "B    9151.300563\n",
       "C    9719.920993\n",
       "Name: Purchase, dtype: float64"
      ]
     },
     "execution_count": 40,
     "metadata": {},
     "output_type": "execute_result"
    }
   ],
   "source": [
    "df.groupby('City_Category')['Purchase'].mean()"
   ]
  },
  {
   "cell_type": "code",
   "execution_count": 41,
   "metadata": {},
   "outputs": [
    {
     "data": {
      "text/plain": [
       "Occupation\n",
       "0     9124.428588\n",
       "1     8953.193270\n",
       "2     8952.481683\n",
       "3     9178.593088\n",
       "4     9213.980251\n",
       "5     9333.149298\n",
       "6     9256.535691\n",
       "7     9425.728223\n",
       "8     9532.592497\n",
       "9     8637.743761\n",
       "10    8959.355375\n",
       "11    9213.845848\n",
       "12    9796.640239\n",
       "13    9306.351061\n",
       "14    9500.702772\n",
       "15    9778.891163\n",
       "16    9394.464349\n",
       "17    9821.478236\n",
       "18    9169.655844\n",
       "19    8710.627231\n",
       "20    8836.494905\n",
       "Name: Purchase, dtype: float64"
      ]
     },
     "execution_count": 41,
     "metadata": {},
     "output_type": "execute_result"
    }
   ],
   "source": [
    "df.groupby('Occupation')['Purchase'].mean()"
   ]
  },
  {
   "cell_type": "code",
   "execution_count": 49,
   "metadata": {},
   "outputs": [
    {
     "data": {
      "text/plain": [
       "<Axes: xlabel='Purchase', ylabel='Density'>"
      ]
     },
     "execution_count": 49,
     "metadata": {},
     "output_type": "execute_result"
    },
    {
     "data": {
      "image/png": "[encoded data removed]",
      "text/plain": [
       "<Figure size 640x480 with 1 Axes>"
      ]
     },
     "metadata": {},
     "output_type": "display_data"
    }
   ],
   "source": [
    "sns.kdeplot(df['Purchase'],fill=True, color='blue')"
   ]
  },
  {
   "cell_type": "code",
   "execution_count": 53,
   "metadata": {},
   "outputs": [
    {
     "data": {
      "text/plain": [
       "<Axes: xlabel='Gender', ylabel='Age'>"
      ]
     },
     "execution_count": 53,
     "metadata": {},
     "output_type": "execute_result"
    },
    {
     "data": {
      "image/png": "[encoded data removed]",
      "text/plain": [
       "<Figure size 640x480 with 1 Axes>"
      ]
     },
     "metadata": {},
     "output_type": "display_data"
    }
   ],
   "source": [
    "sns.boxplot(y='Age', x = 'Gender', data=df, hue='Marital_Status')"
   ]
  },
  {
   "cell_type": "code",
   "execution_count": 57,
   "metadata": {},
   "outputs": [
    {
     "data": {
      "text/plain": [
       "Product_Category_1\n",
       "1     13606.218596\n",
       "2     11251.935384\n",
       "3     10096.705734\n",
       "4      2329.659491\n",
       "5      6240.088178\n",
       "6     15838.478550\n",
       "7     16365.689600\n",
       "8      7498.958078\n",
       "9     15537.375610\n",
       "10    19675.570927\n",
       "11     4685.268456\n",
       "12     1350.859894\n",
       "13      722.400613\n",
       "14    13141.625739\n",
       "15    14780.451828\n",
       "16    14766.037037\n",
       "17    10170.759516\n",
       "18     2972.864320\n",
       "19       37.041797\n",
       "20      370.481176\n",
       "Name: Purchase, dtype: float64"
      ]
     },
     "execution_count": 57,
     "metadata": {},
     "output_type": "execute_result"
    }
   ],
   "source": [
    "df.groupby('Product_Category_1')['Purchase'].mean()"
   ]
  },
  {
   "cell_type": "code",
   "execution_count": 55,
   "metadata": {},
   "outputs": [
    {
     "data": {
      "text/plain": [
       "<Axes: xlabel='Product_Category_1', ylabel='Purchase'>"
      ]
     },
     "execution_count": 55,
     "metadata": {},
     "output_type": "execute_result"
    },
    {
     "data": {
      "image/png": "[encoded data removed]",
      "text/plain": [
       "<Figure size 640x480 with 1 Axes>"
      ]
     },
     "metadata": {},
     "output_type": "display_data"
    }
   ],
   "source": [
    "sns.boxplot(x=df['Product_Category_1'], y=df['Purchase'], hue=df['Gender'])"
   ]
  },
  {
   "cell_type": "code",
   "execution_count": null,
   "metadata": {},
   "outputs": [],
   "source": [
    "#suppose i made some chnges here"
   ]
  }
 ],
 "metadata": {
  "kernelspec": {
   "display_name": "Python 3",
   "language": "python",
   "name": "python3"
  },
  "language_info": {
   "codemirror_mode": {
    "name": "ipython",
    "version": 3
   },
   "file_extension": ".py",
   "mimetype": "text/x-python",
   "name": "python",
   "nbconvert_exporter": "python",
   "pygments_lexer": "ipython3",
   "version": "3.11.4"
  }
 },
 "nbformat": 4,
 "nbformat_minor": 2
}
